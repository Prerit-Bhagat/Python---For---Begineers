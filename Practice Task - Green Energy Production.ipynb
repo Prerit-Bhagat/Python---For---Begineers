{
 "cells": [
  {
   "cell_type": "markdown",
   "id": "92e7c522",
   "metadata": {},
   "source": [
    "# Practice Task: Green Energy Production\n",
    "In this task, you will work with a string representing green energy production data and use Python's built-in string methods to manipulate and transform the data.\n",
    "\n",
    "We have the following data on the green energy production:"
   ]
  },
  {
   "cell_type": "code",
   "execution_count": 1,
   "id": "bfd6ad4c",
   "metadata": {},
   "outputs": [],
   "source": [
    "data = \" wind:5.5, solar:3.2, hydro:8.9, bio:2.1 \""
   ]
  },
  {
   "cell_type": "markdown",
   "id": "87d1218d",
   "metadata": {},
   "source": [
    "Strip any leading or trailing whitespace from the string and print the result."
   ]
  },
  {
   "cell_type": "code",
   "execution_count": 2,
   "id": "8fcb33de",
   "metadata": {},
   "outputs": [
    {
     "name": "stdout",
     "output_type": "stream",
     "text": [
      " wind:5.5, solar:3.2, hydro:8.9, bio:2.1 \n"
     ]
    }
   ],
   "source": [
    "data.strip()\n",
    "print(data)"
   ]
  },
  {
   "cell_type": "markdown",
   "id": "fbdcc39b",
   "metadata": {},
   "source": [
    "Extract the green energy types and production amounts and store them in two lists called `types` and `amounts` "
   ]
  },
  {
   "cell_type": "code",
   "execution_count": 3,
   "id": "8d198e9c",
   "metadata": {},
   "outputs": [
    {
     "name": "stdout",
     "output_type": "stream",
     "text": [
      " wind 5.5\n",
      " solar 3.2\n",
      " hydro 8.9\n",
      " bio 2.1 \n"
     ]
    }
   ],
   "source": [
    "items=data.split(\",\")\n",
    "t=items[0].split(\":\")[0]\n",
    "a=items[0].split(\":\")[1]\n",
    "\n",
    "\n",
    "types=[]\n",
    "amounts=[]\n",
    "\n",
    "for item in items:\n",
    "    t=item.split(\":\")[0]\n",
    "    a=item.split(\":\")[1]\n",
    "    \n",
    "    print(t,a)"
   ]
  },
  {
   "cell_type": "markdown",
   "id": "70644c39",
   "metadata": {},
   "source": [
    "Calculate the total energy production and print the result."
   ]
  },
  {
   "cell_type": "code",
   "execution_count": null,
   "id": "f2537b68",
   "metadata": {},
   "outputs": [],
   "source": []
  }
 ],
 "metadata": {
  "kernelspec": {
   "display_name": "Python 3 (ipykernel)",
   "language": "python",
   "name": "python3"
  },
  "language_info": {
   "codemirror_mode": {
    "name": "ipython",
    "version": 3
   },
   "file_extension": ".py",
   "mimetype": "text/x-python",
   "name": "python",
   "nbconvert_exporter": "python",
   "pygments_lexer": "ipython3",
   "version": "3.10.6"
  }
 },
 "nbformat": 4,
 "nbformat_minor": 5
}
