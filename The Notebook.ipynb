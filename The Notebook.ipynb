{
 "cells": [
  {
   "cell_type": "markdown",
   "id": "4eb0976c",
   "metadata": {},
   "source": [
    "# Welcome To the Notebook\n",
    "\n",
    "---"
   ]
  },
  {
   "cell_type": "markdown",
   "id": "3ed071c3",
   "metadata": {},
   "source": [
    "### Task 1 \n",
    "What is a variable?"
   ]
  },
  {
   "cell_type": "markdown",
   "id": "cc729259",
   "metadata": {},
   "source": [
    "<center><img width = 600 height = 500 src=\"images/1.jpg\"></center>"
   ]
  },
  {
   "cell_type": "markdown",
   "id": "98f6381f",
   "metadata": {},
   "source": [
    "### Python Variable Types:\n",
    "- Numeric \n",
    "    - integer\n",
    "    - float\n",
    "- String "
   ]
  },
  {
   "cell_type": "markdown",
   "id": "be5a0b94",
   "metadata": {},
   "source": [
    " \n",
    " ### Numeric Variables\n",
    " Let's declare a variable with a *integer* value"
   ]
  },
  {
   "cell_type": "code",
   "execution_count": 33,
   "id": "a13f96b1",
   "metadata": {},
   "outputs": [
    {
     "name": "stdout",
     "output_type": "stream",
     "text": [
      "25\n",
      "17\n"
     ]
    }
   ],
   "source": [
    "age=25\n",
    "print(age)\n",
    "age=17\n",
    "print(age)"
   ]
  },
  {
   "cell_type": "markdown",
   "id": "f5972e2c",
   "metadata": {},
   "source": [
    "Let's create a `Width` and `Height` variables to store Width and Height of a rectangle  "
   ]
  },
  {
   "cell_type": "code",
   "execution_count": 34,
   "id": "e825351b",
   "metadata": {},
   "outputs": [],
   "source": [
    "width =5\n",
    "height=10"
   ]
  },
  {
   "cell_type": "markdown",
   "id": "6dd557e1",
   "metadata": {},
   "source": [
    "Let's calculate the area of the rectangle "
   ]
  },
  {
   "cell_type": "code",
   "execution_count": 35,
   "id": "9690b323",
   "metadata": {},
   "outputs": [
    {
     "name": "stdout",
     "output_type": "stream",
     "text": [
      "50\n"
     ]
    }
   ],
   "source": [
    "area=width*height\n",
    "print(area)"
   ]
  },
  {
   "cell_type": "markdown",
   "id": "7ed22419",
   "metadata": {},
   "source": [
    "Let's declare two variables called `circle_radius` and `pi`."
   ]
  },
  {
   "cell_type": "code",
   "execution_count": 36,
   "id": "c8aade9d",
   "metadata": {},
   "outputs": [],
   "source": [
    "circle_radius=4\n",
    "pi=3.14\n"
   ]
  },
  {
   "cell_type": "markdown",
   "id": "1fdb4dd2",
   "metadata": {},
   "source": [
    "Now let's calculate the area of the circle"
   ]
  },
  {
   "cell_type": "code",
   "execution_count": 37,
   "id": "462b1b2b",
   "metadata": {},
   "outputs": [
    {
     "name": "stdout",
     "output_type": "stream",
     "text": [
      "50.24\n"
     ]
    }
   ],
   "source": [
    "area=pi*circle_radius**2\n",
    "print(area)"
   ]
  },
  {
   "cell_type": "markdown",
   "id": "af87fa8f",
   "metadata": {},
   "source": [
    "### Task 2 \n",
    "### String Variables\n",
    "Let's declare a variable with string value"
   ]
  },
  {
   "cell_type": "code",
   "execution_count": 38,
   "id": "b4945d59",
   "metadata": {},
   "outputs": [
    {
     "name": "stdout",
     "output_type": "stream",
     "text": [
      "Prerit\n",
      "21\n"
     ]
    }
   ],
   "source": [
    "name=\"Prerit\"\n",
    "print(name)\n",
    "age='21'\n",
    "print(age)"
   ]
  },
  {
   "cell_type": "markdown",
   "id": "cd858817",
   "metadata": {},
   "source": [
    "Concatenate two strings"
   ]
  },
  {
   "cell_type": "code",
   "execution_count": 39,
   "id": "4ba6979c",
   "metadata": {},
   "outputs": [
    {
     "data": {
      "text/plain": [
       "'Prerit 21'"
      ]
     },
     "execution_count": 39,
     "metadata": {},
     "output_type": "execute_result"
    }
   ],
   "source": [
    "name+\" \"+age"
   ]
  },
  {
   "cell_type": "markdown",
   "id": "826372f8",
   "metadata": {},
   "source": [
    "Exercise: Store your first and lastname in two variables. Concatenate them with a space in between and print the result."
   ]
  },
  {
   "cell_type": "code",
   "execution_count": 40,
   "id": "081112c3",
   "metadata": {},
   "outputs": [
    {
     "data": {
      "text/plain": [
       "'Prerit Bhagat'"
      ]
     },
     "execution_count": 40,
     "metadata": {},
     "output_type": "execute_result"
    }
   ],
   "source": [
    "lastname=\"Bhagat\"\n",
    "name+\" \"+lastname"
   ]
  },
  {
   "cell_type": "markdown",
   "id": "fdcc8bea",
   "metadata": {},
   "source": [
    "Repeating a string"
   ]
  },
  {
   "cell_type": "code",
   "execution_count": 41,
   "id": "14dc0085",
   "metadata": {},
   "outputs": [
    {
     "data": {
      "text/plain": [
       "'PreritPrerit'"
      ]
     },
     "execution_count": 41,
     "metadata": {},
     "output_type": "execute_result"
    }
   ],
   "source": [
    "name*2"
   ]
  },
  {
   "cell_type": "markdown",
   "id": "90ad2365",
   "metadata": {},
   "source": [
    "Get the length of a string"
   ]
  },
  {
   "cell_type": "code",
   "execution_count": 42,
   "id": "c6c3e7b3",
   "metadata": {},
   "outputs": [
    {
     "data": {
      "text/plain": [
       "6"
      ]
     },
     "execution_count": 42,
     "metadata": {},
     "output_type": "execute_result"
    }
   ],
   "source": [
    "len(name)"
   ]
  },
  {
   "cell_type": "markdown",
   "id": "93d05358",
   "metadata": {},
   "source": [
    "Checking the *first* character of the sentence"
   ]
  },
  {
   "cell_type": "code",
   "execution_count": 43,
   "id": "4c701e87",
   "metadata": {},
   "outputs": [
    {
     "data": {
      "text/plain": [
       "'T'"
      ]
     },
     "execution_count": 43,
     "metadata": {},
     "output_type": "execute_result"
    }
   ],
   "source": [
    "sentence=\"This is Prerit Bhagat\"\n",
    "sentence[0]"
   ]
  },
  {
   "cell_type": "markdown",
   "id": "93127357",
   "metadata": {},
   "source": [
    "Checking the *last* character of the sentence"
   ]
  },
  {
   "cell_type": "code",
   "execution_count": 44,
   "id": "5b618147",
   "metadata": {},
   "outputs": [
    {
     "data": {
      "text/plain": [
       "'t'"
      ]
     },
     "execution_count": 44,
     "metadata": {},
     "output_type": "execute_result"
    }
   ],
   "source": [
    "sentence[-1]"
   ]
  },
  {
   "cell_type": "markdown",
   "id": "f440adec",
   "metadata": {},
   "source": [
    "Checking the first four characters of the sentence"
   ]
  },
  {
   "cell_type": "code",
   "execution_count": 45,
   "id": "9f67642e",
   "metadata": {},
   "outputs": [
    {
     "data": {
      "text/plain": [
       "'This'"
      ]
     },
     "execution_count": 45,
     "metadata": {},
     "output_type": "execute_result"
    }
   ],
   "source": [
    "sentence[:4]"
   ]
  },
  {
   "cell_type": "markdown",
   "id": "44cd414b",
   "metadata": {},
   "source": [
    "Checking the last ten characters of the sentence"
   ]
  },
  {
   "cell_type": "code",
   "execution_count": 46,
   "id": "5bb6eeae",
   "metadata": {},
   "outputs": [
    {
     "data": {
      "text/plain": [
       "'haga'"
      ]
     },
     "execution_count": 46,
     "metadata": {},
     "output_type": "execute_result"
    }
   ],
   "source": [
    "sentence[-5:-1]"
   ]
  },
  {
   "cell_type": "markdown",
   "id": "ffdda716",
   "metadata": {},
   "source": [
    "Check if a string contains another string"
   ]
  },
  {
   "cell_type": "code",
   "execution_count": 47,
   "id": "06d87681",
   "metadata": {},
   "outputs": [
    {
     "data": {
      "text/plain": [
       "True"
      ]
     },
     "execution_count": 47,
     "metadata": {},
     "output_type": "execute_result"
    }
   ],
   "source": [
    "\"Prerit\" in sentence"
   ]
  },
  {
   "cell_type": "markdown",
   "id": "2f6ee743",
   "metadata": {},
   "source": [
    "### Task 3 \n",
    "Built-in String Methods\n",
    "Python provides a number of built-in methods for manipulating strings. Some of the most commonly used methods are:\n",
    "\n",
    "- `lower(): returns the string in lowercase`\n",
    "- `upper(): returns the string in uppercase`\n",
    "- `capitalize(): returns the string with the first character capitalized`\n",
    "- `count(substring): returns the number of occurrences of the substring in the string`\n",
    "- `replace(old, new): returns a new string with all occurrences of old replaced with new`\n",
    "- `strip(): returns a new string with leading and trailing whitespaces removed`\n",
    "- `split(delimiter): returns a list of substrings separated by the delimiter`"
   ]
  },
  {
   "cell_type": "code",
   "execution_count": 48,
   "id": "6fefd708",
   "metadata": {},
   "outputs": [
    {
     "name": "stdout",
     "output_type": "stream",
     "text": [
      " the Cat is Sleeping. The Dog is Barking and the sky is blue. \n"
     ]
    }
   ],
   "source": [
    "sentence = \" the Cat is Sleeping. The Dog is Barking and the sky is blue. \"\n",
    "print(sentence)"
   ]
  },
  {
   "cell_type": "markdown",
   "id": "37fe39f5",
   "metadata": {},
   "source": [
    "Convert a string to uppercase"
   ]
  },
  {
   "cell_type": "code",
   "execution_count": 49,
   "id": "8316249c",
   "metadata": {},
   "outputs": [
    {
     "data": {
      "text/plain": [
       "' THE CAT IS SLEEPING. THE DOG IS BARKING AND THE SKY IS BLUE. '"
      ]
     },
     "execution_count": 49,
     "metadata": {},
     "output_type": "execute_result"
    }
   ],
   "source": [
    "sentence.upper()"
   ]
  },
  {
   "cell_type": "markdown",
   "id": "fe17af5c",
   "metadata": {},
   "source": [
    "Convert a string to lowercase"
   ]
  },
  {
   "cell_type": "code",
   "execution_count": 50,
   "id": "e6c6c13b",
   "metadata": {},
   "outputs": [
    {
     "data": {
      "text/plain": [
       "' the cat is sleeping. the dog is barking and the sky is blue. '"
      ]
     },
     "execution_count": 50,
     "metadata": {},
     "output_type": "execute_result"
    }
   ],
   "source": [
    "sentence.lower()"
   ]
  },
  {
   "cell_type": "markdown",
   "id": "5471f67b",
   "metadata": {},
   "source": [
    "Capitalize the first character"
   ]
  },
  {
   "cell_type": "code",
   "execution_count": 51,
   "id": "db0cd5a4",
   "metadata": {},
   "outputs": [
    {
     "data": {
      "text/plain": [
       "'Hello'"
      ]
     },
     "execution_count": 51,
     "metadata": {},
     "output_type": "execute_result"
    }
   ],
   "source": [
    "s=\"hello\"\n",
    "s.capitalize()"
   ]
  },
  {
   "cell_type": "markdown",
   "id": "73ca50b7",
   "metadata": {},
   "source": [
    "Counting the number of occurrences of a the substring 'is'"
   ]
  },
  {
   "cell_type": "code",
   "execution_count": 52,
   "id": "499cae4d",
   "metadata": {},
   "outputs": [
    {
     "data": {
      "text/plain": [
       "3"
      ]
     },
     "execution_count": 52,
     "metadata": {},
     "output_type": "execute_result"
    }
   ],
   "source": [
    "sentence.count('is')"
   ]
  },
  {
   "cell_type": "markdown",
   "id": "bbc61105",
   "metadata": {},
   "source": [
    "Removing the leading and trailing "
   ]
  },
  {
   "cell_type": "code",
   "execution_count": 53,
   "id": "47cd79cc",
   "metadata": {},
   "outputs": [
    {
     "data": {
      "text/plain": [
       "'the Cat is Sleeping. The Dog is Barking and the sky is blue.'"
      ]
     },
     "execution_count": 53,
     "metadata": {},
     "output_type": "execute_result"
    }
   ],
   "source": [
    "sentence.strip()"
   ]
  },
  {
   "cell_type": "code",
   "execution_count": 54,
   "id": "d8d4eeb2",
   "metadata": {},
   "outputs": [
    {
     "data": {
      "text/plain": [
       "['the',\n",
       " 'Cat',\n",
       " 'is',\n",
       " 'Sleeping.',\n",
       " 'The',\n",
       " 'Dog',\n",
       " 'is',\n",
       " 'Barking',\n",
       " 'and',\n",
       " 'the',\n",
       " 'sky',\n",
       " 'is',\n",
       " 'blue.']"
      ]
     },
     "execution_count": 54,
     "metadata": {},
     "output_type": "execute_result"
    }
   ],
   "source": [
    "words=sentence.strip().split(\" \")\n",
    "words"
   ]
  },
  {
   "cell_type": "markdown",
   "id": "d2d48942",
   "metadata": {},
   "source": [
    "Check the first word of the sentence"
   ]
  },
  {
   "cell_type": "code",
   "execution_count": 55,
   "id": "fe058573",
   "metadata": {},
   "outputs": [
    {
     "data": {
      "text/plain": [
       "'the'"
      ]
     },
     "execution_count": 55,
     "metadata": {},
     "output_type": "execute_result"
    }
   ],
   "source": [
    "words[0]"
   ]
  },
  {
   "cell_type": "markdown",
   "id": "24ffa5af",
   "metadata": {},
   "source": [
    "Check the last word of the sentence"
   ]
  },
  {
   "cell_type": "code",
   "execution_count": 56,
   "id": "23b799e5",
   "metadata": {},
   "outputs": [
    {
     "data": {
      "text/plain": [
       "'blue.'"
      ]
     },
     "execution_count": 56,
     "metadata": {},
     "output_type": "execute_result"
    }
   ],
   "source": [
    "words[-1]"
   ]
  },
  {
   "cell_type": "markdown",
   "id": "d48f8a74",
   "metadata": {},
   "source": [
    "### Task 4\n",
    "\n",
    "### Shopping List Cost Analysis\n",
    "\n",
    "A shopping list is a list of items that a person wants to buy. The list may include the name of each item, its cost, and its quantity."
   ]
  },
  {
   "cell_type": "markdown",
   "id": "0e3fa4ab",
   "metadata": {},
   "source": [
    "Loading the shopping list from a text file"
   ]
  },
  {
   "cell_type": "code",
   "execution_count": 57,
   "id": "2f063306",
   "metadata": {},
   "outputs": [
    {
     "data": {
      "text/plain": [
       "'\\tEggs - $0.98 x 10, Milk - $1.23 x 6, Bread - $2.10 x 4, Apples - $1.42 x 5, Bananas - $0.79 x 3, Rice - $2.20 x 8, Chicken - $4.99 x 2, Cheese - $3.75 x 4, Ice Cream - $5.99 x 3, Coffee - $6.99 x 4,\\n Tomatoes - $1.49 x 6, Carrots - $0.89 x 5, Onions - $0.59 x 4, Bell Peppers - $1.19 x 3, Garlic - $0.49 x 2, Ginger - $0.99 x 1, Lemon - $0.69 x 4, Orange - $0.89 x 5, Grapes - $1.99 x 3,\\n Biscuits - $2.20 x 4, Snacks - $1.50 x 6, Chips - $2.99 x 4, Chocolate - $3.50 x 3, Candy - $1.25 x 5, Cookies - $2.10 x 4, Nuts - $4.99 x 2, Crackers - $2.75 x 6, Popcorn - $1.50 x 4,\\n Soda - $2.20 x 6, Juice - $2.50 x 5, Milk shake - $4.99 x 3, Water - $1.00 x 10, Tea - $3.50 x 4, Coffee - $6.99 x 4, Energy Drink - $3.75 x 5, Wine - $12.99 x 2, Beer - $8.99 x 4,\\n Spaghetti - $2.10 x 4, Rice - $2.20 x 8, Noodles - $1.99 x 6, Flour - $1.50 x 5, Sugar - $1.99 x 4, Salt - $0.75 x 3, Pepper - $0.99 x 2, Cooking Oil - $4.50 x 3, Vinegar - $2.75 x 4,\\n Laundry Detergent - $5.99 x 2, Dish Soap - $3.75 x 3, Toilet Cleaner - $2.50 x 2, All-Purpose Cleaner - $3.99 x 4, Glass Cleaner - $2.75 x 3, Paper Towels - $2.50 x 6, Trash Bags - $6.99 x 4,\\n Shampoo - $5.99 x 4, Conditioner - $5.99 x 4, Soap - $2.50 x 6, Body Wash - $5.50 x 4, Toothpaste - $2.99 x 4, Toothbrush - $1.50 x 6, Deodorant - $3.99 x 3, Razor - $5.99 x 2, Shaving Cream - $3.75 x 4,\\n Tissues - $1.50 x 6, Paper Cups - $2.99 x 4, Paper Plates - $2.75 x 3, Plastic Utensils - $3.99 x 4, Aluminum Foil - $3.99 x 3, Plastic Wrap - $2.75 x 4, Zip-Lock Bags - $3.50 x 6,\\n Pet Food - $8.99 x 2, Cat Litter - $5.99 x 3, Dog Treats - $4.50 x 4, Bird Seed - $2.99 x 6 '"
      ]
     },
     "execution_count": 57,
     "metadata": {},
     "output_type": "execute_result"
    }
   ],
   "source": [
    "with open('Shopping List.txt','r') as file:\n",
    "    shopping_list = file.read()\n",
    "shopping_list"
   ]
  },
  {
   "cell_type": "markdown",
   "id": "0507d282",
   "metadata": {},
   "source": [
    "Removing `newline` character from text "
   ]
  },
  {
   "cell_type": "code",
   "execution_count": 58,
   "id": "408ee6df",
   "metadata": {},
   "outputs": [
    {
     "data": {
      "text/plain": [
       "'\\tEggs - $0.98 x 10, Milk - $1.23 x 6, Bread - $2.10 x 4, Apples - $1.42 x 5, Bananas - $0.79 x 3, Rice - $2.20 x 8, Chicken - $4.99 x 2, Cheese - $3.75 x 4, Ice Cream - $5.99 x 3, Coffee - $6.99 x 4, Tomatoes - $1.49 x 6, Carrots - $0.89 x 5, Onions - $0.59 x 4, Bell Peppers - $1.19 x 3, Garlic - $0.49 x 2, Ginger - $0.99 x 1, Lemon - $0.69 x 4, Orange - $0.89 x 5, Grapes - $1.99 x 3, Biscuits - $2.20 x 4, Snacks - $1.50 x 6, Chips - $2.99 x 4, Chocolate - $3.50 x 3, Candy - $1.25 x 5, Cookies - $2.10 x 4, Nuts - $4.99 x 2, Crackers - $2.75 x 6, Popcorn - $1.50 x 4, Soda - $2.20 x 6, Juice - $2.50 x 5, Milk shake - $4.99 x 3, Water - $1.00 x 10, Tea - $3.50 x 4, Coffee - $6.99 x 4, Energy Drink - $3.75 x 5, Wine - $12.99 x 2, Beer - $8.99 x 4, Spaghetti - $2.10 x 4, Rice - $2.20 x 8, Noodles - $1.99 x 6, Flour - $1.50 x 5, Sugar - $1.99 x 4, Salt - $0.75 x 3, Pepper - $0.99 x 2, Cooking Oil - $4.50 x 3, Vinegar - $2.75 x 4, Laundry Detergent - $5.99 x 2, Dish Soap - $3.75 x 3, Toilet Cleaner - $2.50 x 2, All-Purpose Cleaner - $3.99 x 4, Glass Cleaner - $2.75 x 3, Paper Towels - $2.50 x 6, Trash Bags - $6.99 x 4, Shampoo - $5.99 x 4, Conditioner - $5.99 x 4, Soap - $2.50 x 6, Body Wash - $5.50 x 4, Toothpaste - $2.99 x 4, Toothbrush - $1.50 x 6, Deodorant - $3.99 x 3, Razor - $5.99 x 2, Shaving Cream - $3.75 x 4, Tissues - $1.50 x 6, Paper Cups - $2.99 x 4, Paper Plates - $2.75 x 3, Plastic Utensils - $3.99 x 4, Aluminum Foil - $3.99 x 3, Plastic Wrap - $2.75 x 4, Zip-Lock Bags - $3.50 x 6, Pet Food - $8.99 x 2, Cat Litter - $5.99 x 3, Dog Treats - $4.50 x 4, Bird Seed - $2.99 x 6 '"
      ]
     },
     "execution_count": 58,
     "metadata": {},
     "output_type": "execute_result"
    }
   ],
   "source": [
    "shopping_list=shopping_list.replace('\\n',\"\")\n",
    "shopping_list"
   ]
  },
  {
   "cell_type": "markdown",
   "id": "121bf138",
   "metadata": {},
   "source": [
    "removing the leading and trailing white space"
   ]
  },
  {
   "cell_type": "code",
   "execution_count": 59,
   "id": "1e7be224",
   "metadata": {},
   "outputs": [
    {
     "data": {
      "text/plain": [
       "'Eggs - $0.98 x 10, Milk - $1.23 x 6, Bread - $2.10 x 4, Apples - $1.42 x 5, Bananas - $0.79 x 3, Rice - $2.20 x 8, Chicken - $4.99 x 2, Cheese - $3.75 x 4, Ice Cream - $5.99 x 3, Coffee - $6.99 x 4, Tomatoes - $1.49 x 6, Carrots - $0.89 x 5, Onions - $0.59 x 4, Bell Peppers - $1.19 x 3, Garlic - $0.49 x 2, Ginger - $0.99 x 1, Lemon - $0.69 x 4, Orange - $0.89 x 5, Grapes - $1.99 x 3, Biscuits - $2.20 x 4, Snacks - $1.50 x 6, Chips - $2.99 x 4, Chocolate - $3.50 x 3, Candy - $1.25 x 5, Cookies - $2.10 x 4, Nuts - $4.99 x 2, Crackers - $2.75 x 6, Popcorn - $1.50 x 4, Soda - $2.20 x 6, Juice - $2.50 x 5, Milk shake - $4.99 x 3, Water - $1.00 x 10, Tea - $3.50 x 4, Coffee - $6.99 x 4, Energy Drink - $3.75 x 5, Wine - $12.99 x 2, Beer - $8.99 x 4, Spaghetti - $2.10 x 4, Rice - $2.20 x 8, Noodles - $1.99 x 6, Flour - $1.50 x 5, Sugar - $1.99 x 4, Salt - $0.75 x 3, Pepper - $0.99 x 2, Cooking Oil - $4.50 x 3, Vinegar - $2.75 x 4, Laundry Detergent - $5.99 x 2, Dish Soap - $3.75 x 3, Toilet Cleaner - $2.50 x 2, All-Purpose Cleaner - $3.99 x 4, Glass Cleaner - $2.75 x 3, Paper Towels - $2.50 x 6, Trash Bags - $6.99 x 4, Shampoo - $5.99 x 4, Conditioner - $5.99 x 4, Soap - $2.50 x 6, Body Wash - $5.50 x 4, Toothpaste - $2.99 x 4, Toothbrush - $1.50 x 6, Deodorant - $3.99 x 3, Razor - $5.99 x 2, Shaving Cream - $3.75 x 4, Tissues - $1.50 x 6, Paper Cups - $2.99 x 4, Paper Plates - $2.75 x 3, Plastic Utensils - $3.99 x 4, Aluminum Foil - $3.99 x 3, Plastic Wrap - $2.75 x 4, Zip-Lock Bags - $3.50 x 6, Pet Food - $8.99 x 2, Cat Litter - $5.99 x 3, Dog Treats - $4.50 x 4, Bird Seed - $2.99 x 6'"
      ]
     },
     "execution_count": 59,
     "metadata": {},
     "output_type": "execute_result"
    }
   ],
   "source": [
    "shopping_list=shopping_list.strip()\n",
    "shopping_list"
   ]
  },
  {
   "cell_type": "markdown",
   "id": "f9c52e8a",
   "metadata": {},
   "source": [
    "Let's split the shopping list into a list of items"
   ]
  },
  {
   "cell_type": "code",
   "execution_count": 60,
   "id": "0924e430",
   "metadata": {},
   "outputs": [
    {
     "data": {
      "text/plain": [
       "['Eggs - $0.98 x 10',\n",
       " 'Milk - $1.23 x 6',\n",
       " 'Bread - $2.10 x 4',\n",
       " 'Apples - $1.42 x 5',\n",
       " 'Bananas - $0.79 x 3',\n",
       " 'Rice - $2.20 x 8',\n",
       " 'Chicken - $4.99 x 2',\n",
       " 'Cheese - $3.75 x 4',\n",
       " 'Ice Cream - $5.99 x 3',\n",
       " 'Coffee - $6.99 x 4',\n",
       " 'Tomatoes - $1.49 x 6',\n",
       " 'Carrots - $0.89 x 5',\n",
       " 'Onions - $0.59 x 4',\n",
       " 'Bell Peppers - $1.19 x 3',\n",
       " 'Garlic - $0.49 x 2',\n",
       " 'Ginger - $0.99 x 1',\n",
       " 'Lemon - $0.69 x 4',\n",
       " 'Orange - $0.89 x 5',\n",
       " 'Grapes - $1.99 x 3',\n",
       " 'Biscuits - $2.20 x 4',\n",
       " 'Snacks - $1.50 x 6',\n",
       " 'Chips - $2.99 x 4',\n",
       " 'Chocolate - $3.50 x 3',\n",
       " 'Candy - $1.25 x 5',\n",
       " 'Cookies - $2.10 x 4',\n",
       " 'Nuts - $4.99 x 2',\n",
       " 'Crackers - $2.75 x 6',\n",
       " 'Popcorn - $1.50 x 4',\n",
       " 'Soda - $2.20 x 6',\n",
       " 'Juice - $2.50 x 5',\n",
       " 'Milk shake - $4.99 x 3',\n",
       " 'Water - $1.00 x 10',\n",
       " 'Tea - $3.50 x 4',\n",
       " 'Coffee - $6.99 x 4',\n",
       " 'Energy Drink - $3.75 x 5',\n",
       " 'Wine - $12.99 x 2',\n",
       " 'Beer - $8.99 x 4',\n",
       " 'Spaghetti - $2.10 x 4',\n",
       " 'Rice - $2.20 x 8',\n",
       " 'Noodles - $1.99 x 6',\n",
       " 'Flour - $1.50 x 5',\n",
       " 'Sugar - $1.99 x 4',\n",
       " 'Salt - $0.75 x 3',\n",
       " 'Pepper - $0.99 x 2',\n",
       " 'Cooking Oil - $4.50 x 3',\n",
       " 'Vinegar - $2.75 x 4',\n",
       " 'Laundry Detergent - $5.99 x 2',\n",
       " 'Dish Soap - $3.75 x 3',\n",
       " 'Toilet Cleaner - $2.50 x 2',\n",
       " 'All-Purpose Cleaner - $3.99 x 4',\n",
       " 'Glass Cleaner - $2.75 x 3',\n",
       " 'Paper Towels - $2.50 x 6',\n",
       " 'Trash Bags - $6.99 x 4',\n",
       " 'Shampoo - $5.99 x 4',\n",
       " 'Conditioner - $5.99 x 4',\n",
       " 'Soap - $2.50 x 6',\n",
       " 'Body Wash - $5.50 x 4',\n",
       " 'Toothpaste - $2.99 x 4',\n",
       " 'Toothbrush - $1.50 x 6',\n",
       " 'Deodorant - $3.99 x 3',\n",
       " 'Razor - $5.99 x 2',\n",
       " 'Shaving Cream - $3.75 x 4',\n",
       " 'Tissues - $1.50 x 6',\n",
       " 'Paper Cups - $2.99 x 4',\n",
       " 'Paper Plates - $2.75 x 3',\n",
       " 'Plastic Utensils - $3.99 x 4',\n",
       " 'Aluminum Foil - $3.99 x 3',\n",
       " 'Plastic Wrap - $2.75 x 4',\n",
       " 'Zip-Lock Bags - $3.50 x 6',\n",
       " 'Pet Food - $8.99 x 2',\n",
       " 'Cat Litter - $5.99 x 3',\n",
       " 'Dog Treats - $4.50 x 4',\n",
       " 'Bird Seed - $2.99 x 6']"
      ]
     },
     "execution_count": 60,
     "metadata": {},
     "output_type": "execute_result"
    }
   ],
   "source": [
    "items=shopping_list.split(', ')\n",
    "items"
   ]
  },
  {
   "cell_type": "markdown",
   "id": "d39bf94c",
   "metadata": {},
   "source": [
    "Let's convert our unstructured list into a more structured one."
   ]
  },
  {
   "cell_type": "code",
   "execution_count": 61,
   "id": "b3eeead6",
   "metadata": {},
   "outputs": [
    {
     "name": "stdout",
     "output_type": "stream",
     "text": [
      "['Eggs,9.8', 'Milk,7.38', 'Bread,8.4', 'Apples,7.1', 'Bananas,2.37', 'Rice,17.6', 'Chicken,9.98', 'Cheese,15.0', 'Ice Cream,17.97', 'Coffee,27.96', 'Tomatoes,8.94', 'Carrots,4.45', 'Onions,2.36', 'Bell Peppers,3.57', 'Garlic,0.98', 'Ginger,0.99', 'Lemon,2.76', 'Orange,4.45', 'Grapes,5.97', 'Biscuits,8.8', 'Snacks,9.0', 'Chips,11.96', 'Chocolate,10.5', 'Candy,6.25', 'Cookies,8.4', 'Nuts,9.98', 'Crackers,16.5', 'Popcorn,6.0', 'Soda,13.200000000000001', 'Juice,12.5', 'Milk shake,14.97', 'Water,10.0', 'Tea,14.0', 'Coffee,27.96', 'Energy Drink,18.75', 'Wine,25.98', 'Beer,35.96', 'Spaghetti,8.4', 'Rice,17.6', 'Noodles,11.94', 'Flour,7.5', 'Sugar,7.96', 'Salt,2.25', 'Pepper,1.98', 'Cooking Oil,13.5', 'Vinegar,11.0', 'Laundry Detergent,11.98', 'Dish Soap,11.25', 'Toilet Cleaner,5.0', 'All-Purpose Cleaner,15.96', 'Glass Cleaner,8.25', 'Paper Towels,15.0', 'Trash Bags,27.96', 'Shampoo,23.96', 'Conditioner,23.96', 'Soap,15.0', 'Body Wash,22.0', 'Toothpaste,11.96', 'Toothbrush,9.0', 'Deodorant,11.97', 'Razor,11.98', 'Shaving Cream,15.0', 'Tissues,9.0', 'Paper Cups,11.96', 'Paper Plates,8.25', 'Plastic Utensils,15.96', 'Aluminum Foil,11.97', 'Plastic Wrap,11.0', 'Zip-Lock Bags,21.0', 'Pet Food,17.98', 'Cat Litter,17.97', 'Dog Treats,18.0', 'Bird Seed,17.94']\n"
     ]
    }
   ],
   "source": [
    "new_items = []\n",
    "\n",
    "# Processing each item to calculate the cost\n",
    "for item in items:\n",
    "    item_name = item.split(\" - \")[0]  # Extracting the item name\n",
    "    item_price_quantity = item.split(\" - \")[1]  # Extracting the price and quantity\n",
    "    \n",
    "    # Removing the dollar sign and splitting the price and quantity\n",
    "    item_price = float(item_price_quantity.replace(\"$\", \"\").split(\" x \")[0])\n",
    "    item_quantity = float(item_price_quantity.split(\" x \")[1])\n",
    "    \n",
    "    # Calculating the cost of the item\n",
    "    item_cost = item_price * item_quantity\n",
    "    \n",
    "    # Creating the new item string with name and cost\n",
    "    new_item = item_name + \",\" + str(item_cost)\n",
    "    new_items.append(new_item)\n",
    "\n",
    "# Displaying the processed items\n",
    "print(new_items)"
   ]
  },
  {
   "cell_type": "markdown",
   "id": "394e3aca",
   "metadata": {},
   "source": [
    "Converting the new list into a string"
   ]
  },
  {
   "cell_type": "code",
   "execution_count": 62,
   "id": "7886ebe8",
   "metadata": {},
   "outputs": [
    {
     "data": {
      "text/plain": [
       "'Eggs,9.8|Milk,7.38|Bread,8.4|Apples,7.1|Bananas,2.37|Rice,17.6|Chicken,9.98|Cheese,15.0|Ice Cream,17.97|Coffee,27.96|Tomatoes,8.94|Carrots,4.45|Onions,2.36|Bell Peppers,3.57|Garlic,0.98|Ginger,0.99|Lemon,2.76|Orange,4.45|Grapes,5.97|Biscuits,8.8|Snacks,9.0|Chips,11.96|Chocolate,10.5|Candy,6.25|Cookies,8.4|Nuts,9.98|Crackers,16.5|Popcorn,6.0|Soda,13.200000000000001|Juice,12.5|Milk shake,14.97|Water,10.0|Tea,14.0|Coffee,27.96|Energy Drink,18.75|Wine,25.98|Beer,35.96|Spaghetti,8.4|Rice,17.6|Noodles,11.94|Flour,7.5|Sugar,7.96|Salt,2.25|Pepper,1.98|Cooking Oil,13.5|Vinegar,11.0|Laundry Detergent,11.98|Dish Soap,11.25|Toilet Cleaner,5.0|All-Purpose Cleaner,15.96|Glass Cleaner,8.25|Paper Towels,15.0|Trash Bags,27.96|Shampoo,23.96|Conditioner,23.96|Soap,15.0|Body Wash,22.0|Toothpaste,11.96|Toothbrush,9.0|Deodorant,11.97|Razor,11.98|Shaving Cream,15.0|Tissues,9.0|Paper Cups,11.96|Paper Plates,8.25|Plastic Utensils,15.96|Aluminum Foil,11.97|Plastic Wrap,11.0|Zip-Lock Bags,21.0|Pet Food,17.98|Cat Litter,17.97|Dog Treats,18.0|Bird Seed,17.94'"
      ]
     },
     "execution_count": 62,
     "metadata": {},
     "output_type": "execute_result"
    }
   ],
   "source": [
    "new_shopping_list=\"|\".join(new_items)\n",
    "new_shopping_list"
   ]
  },
  {
   "cell_type": "markdown",
   "id": "2c2f5c6a",
   "metadata": {},
   "source": [
    "### Task 5\n",
    "Find the total cost of the shopping list"
   ]
  },
  {
   "cell_type": "code",
   "execution_count": null,
   "id": "2d684352",
   "metadata": {},
   "outputs": [],
   "source": []
  },
  {
   "cell_type": "code",
   "execution_count": 63,
   "id": "c860d1c1",
   "metadata": {},
   "outputs": [
    {
     "name": "stdout",
     "output_type": "stream",
     "text": [
      "Total Cost: 902.1300000000005\n"
     ]
    }
   ],
   "source": [
    "# Splitting the shopping list into items\n",
    "items = new_shopping_list.split(\"|\")\n",
    "costs = []\n",
    "\n",
    "# Extracting costs from each item and converting them to float\n",
    "for item in items:\n",
    "    cost = float(item.split(\",\")[1])\n",
    "    costs.append(cost)\n",
    "\n",
    "# Calculating the total cost\n",
    "total_cost = sum(costs)\n",
    "print(\"Total Cost:\", total_cost)\n"
   ]
  },
  {
   "cell_type": "markdown",
   "id": "9078310f",
   "metadata": {},
   "source": [
    "Let's use a barchart to visualize item prices "
   ]
  },
  {
   "cell_type": "code",
   "execution_count": 64,
   "id": "d5b3db01",
   "metadata": {},
   "outputs": [
    {
     "data": {
      "image/png": "[encoded data removed]",
      "text/plain": [
       "<Figure size 960x480 with 1 Axes>"
      ]
     },
     "metadata": {},
     "output_type": "display_data"
    }
   ],
   "source": [
    "import matplotlib.pyplot as plt\n",
    "from matplotlib.pyplot import figure\n",
    "\n",
    "# Configuring the chart size\n",
    "figure(figsize=(12, 6), dpi=80)\n",
    "\n",
    "names = []\n",
    "\n",
    "# Extracting item names\n",
    "for item in items:\n",
    "    name = item.split(\",\")[0]\n",
    "    names.append(name)\n",
    "\n",
    "# Creating a bar chart for cost distribution\n",
    "plt.bar(names, costs)\n",
    "plt.ylabel(\"Costs\")\n",
    "plt.xlabel(\"Items\")\n",
    "plt.title(\"Cost Distribution per Item\")\n",
    "plt.xticks(rotation=90)\n",
    "plt.show()\n"
   ]
  },
  {
   "cell_type": "code",
   "execution_count": null,
   "id": "e229d3c0",
   "metadata": {},
   "outputs": [],
   "source": []
  }
 ],
 "metadata": {
  "kernelspec": {
   "display_name": "Python 3 (ipykernel)",
   "language": "python",
   "name": "python3"
  },
  "language_info": {
   "codemirror_mode": {
    "name": "ipython",
    "version": 3
   },
   "file_extension": ".py",
   "mimetype": "text/x-python",
   "name": "python",
   "nbconvert_exporter": "python",
   "pygments_lexer": "ipython3",
   "version": "3.10.6"
  }
 },
 "nbformat": 4,
 "nbformat_minor": 5
}
